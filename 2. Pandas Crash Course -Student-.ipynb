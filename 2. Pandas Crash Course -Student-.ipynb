{
 "cells": [
  {
   "cell_type": "markdown",
   "id": "cfc3122a",
   "metadata": {},
   "source": [
    "# Pandas\n",
    "\n",
    "## 1. Introduction"
   ]
  },
  {
   "attachments": {
    "Pandas.png": {
     "image/png": "[encoded data removed]"
    }
   },
   "cell_type": "markdown",
   "id": "aa63cf97",
   "metadata": {},
   "source": [
    "pandas is a Python package providing fast, flexible, and expressive data structures designed to make working with “relational” or “labeled” data both easy and intuitive. It aims to be the fundamental high-level building block for doing practical, real-world data analysis in Python. \n",
    "\n",
    "Additionally, it has the broader goal of becoming the most powerful and flexible open source data analysis/manipulation tool available in any language. \n",
    "\n",
    "It is already well on its way toward this goal.\n",
    "\n",
    "![Pandas.png](attachment:Pandas.png)"
   ]
  },
  {
   "cell_type": "markdown",
   "id": "b210ba56",
   "metadata": {},
   "source": [
    "pandas is well suited for many different kinds of data:\n",
    "\n",
    "* Tabular data with heterogeneously-typed columns, as in an SQL table or Excel spreadsheet\n",
    "\n",
    "* Ordered and unordered (not necessarily fixed-frequency) time series data.\n",
    "\n",
    "* Arbitrary matrix data (homogeneously typed or heterogeneous) with row and column labels\n",
    "\n",
    "* Any other form of observational / statistical data sets. The data need not be labeled at all to be placed into a pandas data structure"
   ]
  },
  {
   "cell_type": "markdown",
   "id": "02a43abf",
   "metadata": {},
   "source": [
    "The two primary data structures of pandas, \n",
    "* Series (1-dimensional) and \n",
    "* DataFrame (2-dimensional)\n",
    "\n",
    "Handle the vast majority of typical use cases in finance, statistics, social science, and many areas of engineering. "
   ]
  },
  {
   "cell_type": "markdown",
   "id": "a64f759e",
   "metadata": {},
   "source": [
    "## 2. Installation\n",
    "\n",
    "For those who haven't installed Pandas yet. Please type the following command in your Conda console\n",
    "\n",
    "<i>(my_env) $ conda install pandas</i>\n",
    "\n",
    "Please check you have properly installed Numpy typing the following command\n",
    "\n",
    "<i>(my_env) $conda list pandas</i>\n",
    "\n",
    "Name &emsp; Version &emsp; Build &emsp; &emsp; &emsp; &emsp; &emsp; &nbsp; Channel\n",
    "\n",
    "numpy &emsp; 1.5.0 &emsp; pypi_0 &emsp; conda-forge"
   ]
  },
  {
   "cell_type": "markdown",
   "id": "b8e9114a",
   "metadata": {},
   "source": [
    "## 3. First steps with Pandas\n",
    "\n",
    "Once you've installed Pandas library, don't forget to import it!!"
   ]
  },
  {
   "cell_type": "code",
   "execution_count": 30,
   "id": "17d49e54",
   "metadata": {},
   "outputs": [],
   "source": [
    "import pandas as pd"
   ]
  },
  {
   "cell_type": "markdown",
   "id": "da14f9c7",
   "metadata": {},
   "source": [
    "### Looking at your data"
   ]
  },
  {
   "cell_type": "markdown",
   "id": "4c15568e",
   "metadata": {},
   "source": [
    "<strong> Exercise 1: </strong> Set up a pandas dataframe from the file located at './datasets/menu_sales.tsv'\n",
    "    \n"
   ]
  },
  {
   "cell_type": "code",
   "execution_count": 31,
   "id": "82264c38",
   "metadata": {},
   "outputs": [],
   "source": [
    "### Your code starts here ###\n",
    "\n",
    "# url = \n",
    "\n",
    "menu_orders = pd.read_csv(url, sep = '\\t')\n",
    "\n",
    "### Your code ends here ###"
   ]
  },
  {
   "cell_type": "markdown",
   "id": "b2792cb3",
   "metadata": {},
   "source": [
    "<strong> Exercise 2: </strong> Show the first 5 rows of the dataframe"
   ]
  },
  {
   "cell_type": "code",
   "execution_count": 32,
   "id": "c75fe19b",
   "metadata": {},
   "outputs": [
    {
     "data": {
      "text/html": [
       "<div>\n",
       "<style scoped>\n",
       "    .dataframe tbody tr th:only-of-type {\n",
       "        vertical-align: middle;\n",
       "    }\n",
       "\n",
       "    .dataframe tbody tr th {\n",
       "        vertical-align: top;\n",
       "    }\n",
       "\n",
       "    .dataframe thead th {\n",
       "        text-align: right;\n",
       "    }\n",
       "</style>\n",
       "<table border=\"1\" class=\"dataframe\">\n",
       "  <thead>\n",
       "    <tr style=\"text-align: right;\">\n",
       "      <th></th>\n",
       "      <th>order_id</th>\n",
       "      <th>quantity</th>\n",
       "      <th>item_name</th>\n",
       "      <th>choice_description</th>\n",
       "      <th>item_price</th>\n",
       "    </tr>\n",
       "  </thead>\n",
       "  <tbody>\n",
       "    <tr>\n",
       "      <th>0</th>\n",
       "      <td>1</td>\n",
       "      <td>1</td>\n",
       "      <td>Chips and Fresh Tomato Salsa</td>\n",
       "      <td>NaN</td>\n",
       "      <td>$2.39</td>\n",
       "    </tr>\n",
       "    <tr>\n",
       "      <th>1</th>\n",
       "      <td>1</td>\n",
       "      <td>1</td>\n",
       "      <td>Izze</td>\n",
       "      <td>[Clementine]</td>\n",
       "      <td>$3.39</td>\n",
       "    </tr>\n",
       "    <tr>\n",
       "      <th>2</th>\n",
       "      <td>1</td>\n",
       "      <td>1</td>\n",
       "      <td>Nantucket Nectar</td>\n",
       "      <td>[Apple]</td>\n",
       "      <td>$3.39</td>\n",
       "    </tr>\n",
       "    <tr>\n",
       "      <th>3</th>\n",
       "      <td>1</td>\n",
       "      <td>1</td>\n",
       "      <td>Chips and Tomatillo-Green Chili Salsa</td>\n",
       "      <td>NaN</td>\n",
       "      <td>$2.39</td>\n",
       "    </tr>\n",
       "    <tr>\n",
       "      <th>4</th>\n",
       "      <td>2</td>\n",
       "      <td>2</td>\n",
       "      <td>Chicken Bowl</td>\n",
       "      <td>[Tomatillo-Red Chili Salsa (Hot), [Black Beans...</td>\n",
       "      <td>$16.98</td>\n",
       "    </tr>\n",
       "  </tbody>\n",
       "</table>\n",
       "</div>"
      ],
      "text/plain": [
       "   order_id  quantity                              item_name  \\\n",
       "0         1         1           Chips and Fresh Tomato Salsa   \n",
       "1         1         1                                   Izze   \n",
       "2         1         1                       Nantucket Nectar   \n",
       "3         1         1  Chips and Tomatillo-Green Chili Salsa   \n",
       "4         2         2                           Chicken Bowl   \n",
       "\n",
       "                                  choice_description item_price  \n",
       "0                                                NaN     $2.39   \n",
       "1                                       [Clementine]     $3.39   \n",
       "2                                            [Apple]     $3.39   \n",
       "3                                                NaN     $2.39   \n",
       "4  [Tomatillo-Red Chili Salsa (Hot), [Black Beans...    $16.98   "
      ]
     },
     "execution_count": 32,
     "metadata": {},
     "output_type": "execute_result"
    }
   ],
   "source": [
    "### Your code starts here ###\n",
    "\n",
    "\n",
    "### Your code ends here ###"
   ]
  },
  {
   "cell_type": "markdown",
   "id": "a95014d0",
   "metadata": {},
   "source": [
    "It seems that Pandas has to do with Microsoft Excel... As a matter of fact, you can consider pandas as your Excel for python. Pandas deals with 2D sheets, rows, columns and formulas.\n",
    "\n",
    "<strong> Exercise 3: </strong> Show the last ten rows of the dataframe"
   ]
  },
  {
   "cell_type": "code",
   "execution_count": 33,
   "id": "d48a7069",
   "metadata": {},
   "outputs": [
    {
     "data": {
      "text/html": [
       "<div>\n",
       "<style scoped>\n",
       "    .dataframe tbody tr th:only-of-type {\n",
       "        vertical-align: middle;\n",
       "    }\n",
       "\n",
       "    .dataframe tbody tr th {\n",
       "        vertical-align: top;\n",
       "    }\n",
       "\n",
       "    .dataframe thead th {\n",
       "        text-align: right;\n",
       "    }\n",
       "</style>\n",
       "<table border=\"1\" class=\"dataframe\">\n",
       "  <thead>\n",
       "    <tr style=\"text-align: right;\">\n",
       "      <th></th>\n",
       "      <th>order_id</th>\n",
       "      <th>quantity</th>\n",
       "      <th>item_name</th>\n",
       "      <th>choice_description</th>\n",
       "      <th>item_price</th>\n",
       "    </tr>\n",
       "  </thead>\n",
       "  <tbody>\n",
       "    <tr>\n",
       "      <th>4612</th>\n",
       "      <td>1831</td>\n",
       "      <td>1</td>\n",
       "      <td>Carnitas Bowl</td>\n",
       "      <td>[Fresh Tomato Salsa, [Fajita Vegetables, Rice,...</td>\n",
       "      <td>$9.25</td>\n",
       "    </tr>\n",
       "    <tr>\n",
       "      <th>4613</th>\n",
       "      <td>1831</td>\n",
       "      <td>1</td>\n",
       "      <td>Chips</td>\n",
       "      <td>NaN</td>\n",
       "      <td>$2.15</td>\n",
       "    </tr>\n",
       "    <tr>\n",
       "      <th>4614</th>\n",
       "      <td>1831</td>\n",
       "      <td>1</td>\n",
       "      <td>Bottled Water</td>\n",
       "      <td>NaN</td>\n",
       "      <td>$1.50</td>\n",
       "    </tr>\n",
       "    <tr>\n",
       "      <th>4615</th>\n",
       "      <td>1832</td>\n",
       "      <td>1</td>\n",
       "      <td>Chicken Soft Tacos</td>\n",
       "      <td>[Fresh Tomato Salsa, [Rice, Cheese, Sour Cream]]</td>\n",
       "      <td>$8.75</td>\n",
       "    </tr>\n",
       "    <tr>\n",
       "      <th>4616</th>\n",
       "      <td>1832</td>\n",
       "      <td>1</td>\n",
       "      <td>Chips and Guacamole</td>\n",
       "      <td>NaN</td>\n",
       "      <td>$4.45</td>\n",
       "    </tr>\n",
       "    <tr>\n",
       "      <th>4617</th>\n",
       "      <td>1833</td>\n",
       "      <td>1</td>\n",
       "      <td>Steak Burrito</td>\n",
       "      <td>[Fresh Tomato Salsa, [Rice, Black Beans, Sour ...</td>\n",
       "      <td>$11.75</td>\n",
       "    </tr>\n",
       "    <tr>\n",
       "      <th>4618</th>\n",
       "      <td>1833</td>\n",
       "      <td>1</td>\n",
       "      <td>Steak Burrito</td>\n",
       "      <td>[Fresh Tomato Salsa, [Rice, Sour Cream, Cheese...</td>\n",
       "      <td>$11.75</td>\n",
       "    </tr>\n",
       "    <tr>\n",
       "      <th>4619</th>\n",
       "      <td>1834</td>\n",
       "      <td>1</td>\n",
       "      <td>Chicken Salad Bowl</td>\n",
       "      <td>[Fresh Tomato Salsa, [Fajita Vegetables, Pinto...</td>\n",
       "      <td>$11.25</td>\n",
       "    </tr>\n",
       "    <tr>\n",
       "      <th>4620</th>\n",
       "      <td>1834</td>\n",
       "      <td>1</td>\n",
       "      <td>Chicken Salad Bowl</td>\n",
       "      <td>[Fresh Tomato Salsa, [Fajita Vegetables, Lettu...</td>\n",
       "      <td>$8.75</td>\n",
       "    </tr>\n",
       "    <tr>\n",
       "      <th>4621</th>\n",
       "      <td>1834</td>\n",
       "      <td>1</td>\n",
       "      <td>Chicken Salad Bowl</td>\n",
       "      <td>[Fresh Tomato Salsa, [Fajita Vegetables, Pinto...</td>\n",
       "      <td>$8.75</td>\n",
       "    </tr>\n",
       "  </tbody>\n",
       "</table>\n",
       "</div>"
      ],
      "text/plain": [
       "      order_id  quantity            item_name  \\\n",
       "4612      1831         1        Carnitas Bowl   \n",
       "4613      1831         1                Chips   \n",
       "4614      1831         1        Bottled Water   \n",
       "4615      1832         1   Chicken Soft Tacos   \n",
       "4616      1832         1  Chips and Guacamole   \n",
       "4617      1833         1        Steak Burrito   \n",
       "4618      1833         1        Steak Burrito   \n",
       "4619      1834         1   Chicken Salad Bowl   \n",
       "4620      1834         1   Chicken Salad Bowl   \n",
       "4621      1834         1   Chicken Salad Bowl   \n",
       "\n",
       "                                     choice_description item_price  \n",
       "4612  [Fresh Tomato Salsa, [Fajita Vegetables, Rice,...     $9.25   \n",
       "4613                                                NaN     $2.15   \n",
       "4614                                                NaN     $1.50   \n",
       "4615   [Fresh Tomato Salsa, [Rice, Cheese, Sour Cream]]     $8.75   \n",
       "4616                                                NaN     $4.45   \n",
       "4617  [Fresh Tomato Salsa, [Rice, Black Beans, Sour ...    $11.75   \n",
       "4618  [Fresh Tomato Salsa, [Rice, Sour Cream, Cheese...    $11.75   \n",
       "4619  [Fresh Tomato Salsa, [Fajita Vegetables, Pinto...    $11.25   \n",
       "4620  [Fresh Tomato Salsa, [Fajita Vegetables, Lettu...     $8.75   \n",
       "4621  [Fresh Tomato Salsa, [Fajita Vegetables, Pinto...     $8.75   "
      ]
     },
     "execution_count": 33,
     "metadata": {},
     "output_type": "execute_result"
    }
   ],
   "source": [
    "### Your code starts here ###\n",
    "\n",
    "\n",
    "\n",
    "### Your code ends here ###"
   ]
  },
  {
   "cell_type": "markdown",
   "id": "0d1dc63d",
   "metadata": {},
   "source": [
    "Pandas has two main data structures that will be the skeleton of any further work:\n",
    "\n",
    "* Series: 1D labeled homogeneously-typed array\n",
    "* Dataframe: General 2D labeled, size-mutable tabular structure with potentially heterogeneously-typed column\n",
    "\n",
    "Let's focus our efforts on understanding how pandas Dataframe works\n",
    "\n",
    "<strong> Exercise 4: </strong> Show pandas relevant information of the given dataframe"
   ]
  },
  {
   "cell_type": "code",
   "execution_count": 34,
   "id": "331ef6da",
   "metadata": {},
   "outputs": [
    {
     "name": "stdout",
     "output_type": "stream",
     "text": [
      "<class 'pandas.core.frame.DataFrame'>\n",
      "RangeIndex: 4622 entries, 0 to 4621\n",
      "Data columns (total 5 columns):\n",
      " #   Column              Non-Null Count  Dtype \n",
      "---  ------              --------------  ----- \n",
      " 0   order_id            4622 non-null   int64 \n",
      " 1   quantity            4622 non-null   int64 \n",
      " 2   item_name           4622 non-null   object\n",
      " 3   choice_description  3376 non-null   object\n",
      " 4   item_price          4622 non-null   object\n",
      "dtypes: int64(2), object(3)\n",
      "memory usage: 180.7+ KB\n"
     ]
    }
   ],
   "source": [
    "### Your code starts here ###\n",
    "\n",
    "\n",
    "\n",
    "### Your code ends here ###"
   ]
  },
  {
   "cell_type": "markdown",
   "id": "1a116be6",
   "metadata": {},
   "source": [
    "As you can check in the previous exercise, method info gives you a wide view of the dataframe you're dealing with. Let's explore row and columns of the dataframe.\n",
    "\n",
    "<strong> Exercise 5: </strong> Show the number of dataset rows"
   ]
  },
  {
   "cell_type": "code",
   "execution_count": 35,
   "id": "0ae01183",
   "metadata": {},
   "outputs": [
    {
     "name": "stdout",
     "output_type": "stream",
     "text": [
      "The number of rows included in this dataset is 4622\n"
     ]
    }
   ],
   "source": [
    "### Your code starts here ###\n",
    "\n",
    "# num_rows = \n",
    "\n",
    "### Your code ends here ###\n",
    "\n",
    "print (\"The number of rows included in this dataset is {0:d}\".format(num_rows))"
   ]
  },
  {
   "cell_type": "markdown",
   "id": "b188e3bf",
   "metadata": {},
   "source": [
    "<strong> Exercise 6: </strong> Show the number of dataset columns"
   ]
  },
  {
   "cell_type": "code",
   "execution_count": 36,
   "id": "e436064e",
   "metadata": {},
   "outputs": [
    {
     "name": "stdout",
     "output_type": "stream",
     "text": [
      "The number of columns included in this dataset is 5\n"
     ]
    }
   ],
   "source": [
    "### Your code starts here ###\n",
    "\n",
    "# num_columns = \n",
    "\n",
    "### Your code ends here ###\n",
    "\n",
    "print (\"The number of columns included in this dataset is {0:d}\".format(num_columns))"
   ]
  },
  {
   "cell_type": "markdown",
   "id": "693143a4",
   "metadata": {},
   "source": [
    "Pandas keeps some \"Numpy style\" methods as shape is. But Pandas is more than a refurbished Numpy...\n",
    "\n",
    "<strong> Exercise 7: </strong> Print the name of the columns"
   ]
  },
  {
   "cell_type": "code",
   "execution_count": 37,
   "id": "99d69a1c",
   "metadata": {},
   "outputs": [
    {
     "name": "stdout",
     "output_type": "stream",
     "text": [
      "The name of the columns are: Index(['order_id', 'quantity', 'item_name', 'choice_description',\n",
      "       'item_price'],\n",
      "      dtype='object')\n"
     ]
    }
   ],
   "source": [
    "### Your code starts here ###\n",
    "\n",
    "### Your code ends here ###\n",
    "\n",
    "print(\"The name of the columns are: {0:s}\".format(str(name_columns)))"
   ]
  },
  {
   "cell_type": "markdown",
   "id": "a768136a",
   "metadata": {},
   "source": [
    "<strong> Exercise 8: </strong> Print the index of the dataframe"
   ]
  },
  {
   "cell_type": "code",
   "execution_count": 38,
   "id": "4754caa9",
   "metadata": {},
   "outputs": [
    {
     "name": "stdout",
     "output_type": "stream",
     "text": [
      "The index of the dataframe: RangeIndex(start=0, stop=4622, step=1)\n"
     ]
    }
   ],
   "source": [
    "### Your code starts here ###\n",
    "\n",
    "# index = \n",
    "\n",
    "### Your code ends here ###\n",
    "\n",
    "print(\"The index of the dataframe: {0:s}\".format(str(index)))"
   ]
  },
  {
   "cell_type": "markdown",
   "id": "3af1898a",
   "metadata": {},
   "source": [
    "As all database frameworks do, pandas defines a column of your table as the index. The index is widely used in any data science project where queries a key"
   ]
  },
  {
   "cell_type": "markdown",
   "id": "c40bc8fc",
   "metadata": {},
   "source": [
    "### Extracting portions of the dataframe\n",
    "\n",
    "Let's do some slicing as we did with Numpy. Pandas uses the same terminology as Numpy, let's review it.\n",
    "\n",
    "<strong>Exercise 9: </strong> Extract the data from the 3rd row to the 21st row"
   ]
  },
  {
   "cell_type": "code",
   "execution_count": 39,
   "id": "0f51a654",
   "metadata": {},
   "outputs": [
    {
     "name": "stdout",
     "output_type": "stream",
     "text": [
      "    order_id  quantity                              item_name  \\\n",
      "2          1         1                       Nantucket Nectar   \n",
      "3          1         1  Chips and Tomatillo-Green Chili Salsa   \n",
      "4          2         2                           Chicken Bowl   \n",
      "5          3         1                           Chicken Bowl   \n",
      "6          3         1                          Side of Chips   \n",
      "7          4         1                          Steak Burrito   \n",
      "8          4         1                       Steak Soft Tacos   \n",
      "9          5         1                          Steak Burrito   \n",
      "10         5         1                    Chips and Guacamole   \n",
      "11         6         1                   Chicken Crispy Tacos   \n",
      "12         6         1                     Chicken Soft Tacos   \n",
      "13         7         1                           Chicken Bowl   \n",
      "14         7         1                    Chips and Guacamole   \n",
      "15         8         1  Chips and Tomatillo-Green Chili Salsa   \n",
      "16         8         1                        Chicken Burrito   \n",
      "17         9         1                        Chicken Burrito   \n",
      "18         9         2                            Canned Soda   \n",
      "19        10         1                           Chicken Bowl   \n",
      "20        10         1                    Chips and Guacamole   \n",
      "\n",
      "                                   choice_description item_price  \n",
      "2                                             [Apple]     $3.39   \n",
      "3                                                 NaN     $2.39   \n",
      "4   [Tomatillo-Red Chili Salsa (Hot), [Black Beans...    $16.98   \n",
      "5   [Fresh Tomato Salsa (Mild), [Rice, Cheese, Sou...    $10.98   \n",
      "6                                                 NaN     $1.69   \n",
      "7   [Tomatillo Red Chili Salsa, [Fajita Vegetables...    $11.75   \n",
      "8   [Tomatillo Green Chili Salsa, [Pinto Beans, Ch...     $9.25   \n",
      "9   [Fresh Tomato Salsa, [Rice, Black Beans, Pinto...     $9.25   \n",
      "10                                                NaN     $4.45   \n",
      "11  [Roasted Chili Corn Salsa, [Fajita Vegetables,...     $8.75   \n",
      "12  [Roasted Chili Corn Salsa, [Rice, Black Beans,...     $8.75   \n",
      "13  [Fresh Tomato Salsa, [Fajita Vegetables, Rice,...    $11.25   \n",
      "14                                                NaN     $4.45   \n",
      "15                                                NaN     $2.39   \n",
      "16  [Tomatillo-Green Chili Salsa (Medium), [Pinto ...     $8.49   \n",
      "17  [Fresh Tomato Salsa (Mild), [Black Beans, Rice...     $8.49   \n",
      "18                                           [Sprite]     $2.18   \n",
      "19  [Tomatillo Red Chili Salsa, [Fajita Vegetables...     $8.75   \n",
      "20                                                NaN     $4.45   \n"
     ]
    }
   ],
   "source": [
    "### Your code starts here ###\n",
    "\n",
    "# portion = \n",
    "\n",
    "### Your code ends here ###\n",
    "\n",
    "print(portion)"
   ]
  },
  {
   "cell_type": "markdown",
   "id": "51ea863f",
   "metadata": {},
   "source": [
    "<strong>Exercise 10:</strong> Extract the data from the 2nd column to the 4th column"
   ]
  },
  {
   "cell_type": "code",
   "execution_count": 40,
   "id": "77ad64ef",
   "metadata": {},
   "outputs": [
    {
     "name": "stdout",
     "output_type": "stream",
     "text": [
      "      quantity                              item_name  \\\n",
      "0            1           Chips and Fresh Tomato Salsa   \n",
      "1            1                                   Izze   \n",
      "2            1                       Nantucket Nectar   \n",
      "3            1  Chips and Tomatillo-Green Chili Salsa   \n",
      "4            2                           Chicken Bowl   \n",
      "...        ...                                    ...   \n",
      "4617         1                          Steak Burrito   \n",
      "4618         1                          Steak Burrito   \n",
      "4619         1                     Chicken Salad Bowl   \n",
      "4620         1                     Chicken Salad Bowl   \n",
      "4621         1                     Chicken Salad Bowl   \n",
      "\n",
      "                                     choice_description  \n",
      "0                                                   NaN  \n",
      "1                                          [Clementine]  \n",
      "2                                               [Apple]  \n",
      "3                                                   NaN  \n",
      "4     [Tomatillo-Red Chili Salsa (Hot), [Black Beans...  \n",
      "...                                                 ...  \n",
      "4617  [Fresh Tomato Salsa, [Rice, Black Beans, Sour ...  \n",
      "4618  [Fresh Tomato Salsa, [Rice, Sour Cream, Cheese...  \n",
      "4619  [Fresh Tomato Salsa, [Fajita Vegetables, Pinto...  \n",
      "4620  [Fresh Tomato Salsa, [Fajita Vegetables, Lettu...  \n",
      "4621  [Fresh Tomato Salsa, [Fajita Vegetables, Pinto...  \n",
      "\n",
      "[4622 rows x 3 columns]\n"
     ]
    }
   ],
   "source": [
    "### Your code starts here ###\n",
    "\n",
    "# portion = \n",
    "\n",
    "### Your code ends here ###\n",
    "\n",
    "print(portion)"
   ]
  },
  {
   "cell_type": "markdown",
   "id": "d5ea029d",
   "metadata": {},
   "source": [
    "But pandas deals not only with numbers, but with column names. You can use them in your slicing\n",
    "\n",
    "<strong>Exercise 11:</strong> Extract the data of the column named 'item_name'"
   ]
  },
  {
   "cell_type": "code",
   "execution_count": 41,
   "id": "9eb5174e",
   "metadata": {},
   "outputs": [
    {
     "name": "stdout",
     "output_type": "stream",
     "text": [
      "0                Chips and Fresh Tomato Salsa\n",
      "1                                        Izze\n",
      "2                            Nantucket Nectar\n",
      "3       Chips and Tomatillo-Green Chili Salsa\n",
      "4                                Chicken Bowl\n",
      "                        ...                  \n",
      "4617                            Steak Burrito\n",
      "4618                            Steak Burrito\n",
      "4619                       Chicken Salad Bowl\n",
      "4620                       Chicken Salad Bowl\n",
      "4621                       Chicken Salad Bowl\n",
      "Name: item_name, Length: 4622, dtype: object\n"
     ]
    }
   ],
   "source": [
    "### Your code starts here ###\n",
    "\n",
    "# portion = \n",
    "\n",
    "### Your code ends here ###\n",
    "\n",
    "print(portion)"
   ]
  },
  {
   "cell_type": "markdown",
   "id": "baa743f2",
   "metadata": {},
   "source": [
    "\n",
    "<strong>Exercise 12:</strong> Extract the data of the columns named 'item_name' and 'item_price'"
   ]
  },
  {
   "cell_type": "code",
   "execution_count": 42,
   "id": "d81d9363",
   "metadata": {},
   "outputs": [
    {
     "name": "stdout",
     "output_type": "stream",
     "text": [
      "                                  item_name item_price\n",
      "0              Chips and Fresh Tomato Salsa     $2.39 \n",
      "1                                      Izze     $3.39 \n",
      "2                          Nantucket Nectar     $3.39 \n",
      "3     Chips and Tomatillo-Green Chili Salsa     $2.39 \n",
      "4                              Chicken Bowl    $16.98 \n",
      "...                                     ...        ...\n",
      "4617                          Steak Burrito    $11.75 \n",
      "4618                          Steak Burrito    $11.75 \n",
      "4619                     Chicken Salad Bowl    $11.25 \n",
      "4620                     Chicken Salad Bowl     $8.75 \n",
      "4621                     Chicken Salad Bowl     $8.75 \n",
      "\n",
      "[4622 rows x 2 columns]\n"
     ]
    }
   ],
   "source": [
    "### Your code starts here ###\n",
    "\n",
    "# portion =\n",
    "\n",
    "### Your code ends here ###\n",
    "\n",
    "print(portion)"
   ]
  },
  {
   "cell_type": "markdown",
   "id": "a751d6fa",
   "metadata": {},
   "source": [
    "<strong>Exercise 13:</strong> Extract the data of the row that has index name '500'"
   ]
  },
  {
   "cell_type": "code",
   "execution_count": 43,
   "id": "79d8d253",
   "metadata": {},
   "outputs": [
    {
     "name": "stdout",
     "output_type": "stream",
     "text": [
      "order_id                                                           209\n",
      "quantity                                                             1\n",
      "item_name                                                   Steak Bowl\n",
      "choice_description    [Fresh Tomato Salsa, [Rice, Cheese, Sour Cream]]\n",
      "item_price                                                      $9.25 \n",
      "Name: 500, dtype: object\n"
     ]
    }
   ],
   "source": [
    "### Your code starts here ###\n",
    "\n",
    "# portion = \n",
    "\n",
    "### Your code ends here ###\n",
    "\n",
    "print(portion)"
   ]
  },
  {
   "cell_type": "markdown",
   "id": "1c046945",
   "metadata": {},
   "source": [
    "<strong>Exercise 14:</strong> Extract the position in the dataframe the row that the index name as '500'. Please bear in mind that the index starts off with 0"
   ]
  },
  {
   "cell_type": "code",
   "execution_count": 44,
   "id": "b12ba0f0",
   "metadata": {},
   "outputs": [
    {
     "name": "stdout",
     "output_type": "stream",
     "text": [
      "The position of the row that has index name 500 is 500\n"
     ]
    }
   ],
   "source": [
    "### Your code starts here ###\n",
    "\n",
    "# index_name = \n",
    "\n",
    "position = menu_orders.index.get_loc(index_name)\n",
    "\n",
    "### Your code ends here ###\n",
    "\n",
    "print(\"The position of the row that has index name {0:s} is {0:s}\".format(str(index_name),position))"
   ]
  },
  {
   "cell_type": "markdown",
   "id": "9ef8d1ad",
   "metadata": {},
   "source": [
    "It's key that you understand the differce between the loc method and the iloc method:\n",
    "* loc deals with the content of the cell/s your are looking for\n",
    "* iloc deals with the position of the cell/s you are looking for"
   ]
  },
  {
   "cell_type": "markdown",
   "id": "b5d607e5",
   "metadata": {},
   "source": [
    "<strong>Exercise 15:</strong> Show the index name of the last row"
   ]
  },
  {
   "cell_type": "code",
   "execution_count": 45,
   "id": "47a33ca0",
   "metadata": {},
   "outputs": [
    {
     "name": "stdout",
     "output_type": "stream",
     "text": [
      "The name of the last index is 4621\n"
     ]
    }
   ],
   "source": [
    "### Your code starts here ###\n",
    "\n",
    "# last_index = \n",
    "\n",
    "### Your code ends here ###\n",
    "\n",
    "print(\"The name of the last index is {0:s}\".format(str(last_index)))"
   ]
  },
  {
   "cell_type": "markdown",
   "id": "1b402db3",
   "metadata": {},
   "source": [
    "## 4. Getting relevant information"
   ]
  },
  {
   "cell_type": "markdown",
   "id": "296817dc",
   "metadata": {},
   "source": [
    "### Grouping data and getting information from it\n"
   ]
  },
  {
   "cell_type": "markdown",
   "id": "741165c2",
   "metadata": {},
   "source": [
    "loc and iloc methods are really useful when dealing with data extraction and slicing, buy you can also use \"Numpy style\" syntax to access data"
   ]
  },
  {
   "cell_type": "markdown",
   "id": "8793e630",
   "metadata": {},
   "source": [
    "<strong>Exercise 16:</strong> Extract the columns 'choice_description' and 'quantity' without using .loc method"
   ]
  },
  {
   "cell_type": "code",
   "execution_count": 46,
   "id": "e36a3c4e",
   "metadata": {
    "scrolled": true
   },
   "outputs": [
    {
     "name": "stdout",
     "output_type": "stream",
     "text": [
      "                                     choice_description  quantity\n",
      "0                                                   NaN         1\n",
      "1                                          [Clementine]         1\n",
      "2                                               [Apple]         1\n",
      "3                                                   NaN         1\n",
      "4     [Tomatillo-Red Chili Salsa (Hot), [Black Beans...         2\n",
      "...                                                 ...       ...\n",
      "4617  [Fresh Tomato Salsa, [Rice, Black Beans, Sour ...         1\n",
      "4618  [Fresh Tomato Salsa, [Rice, Sour Cream, Cheese...         1\n",
      "4619  [Fresh Tomato Salsa, [Fajita Vegetables, Pinto...         1\n",
      "4620  [Fresh Tomato Salsa, [Fajita Vegetables, Lettu...         1\n",
      "4621  [Fresh Tomato Salsa, [Fajita Vegetables, Pinto...         1\n",
      "\n",
      "[4622 rows x 2 columns]\n"
     ]
    }
   ],
   "source": [
    "### Your code starts here ###\n",
    "\n",
    "# extract = \n",
    "\n",
    "### Your code ends here ###\n",
    "\n",
    "print(extract)"
   ]
  },
  {
   "cell_type": "markdown",
   "id": "5b6e3888",
   "metadata": {},
   "source": [
    "Let's move on to a really useful pandas tool, grouping:"
   ]
  },
  {
   "cell_type": "markdown",
   "id": "6f808122",
   "metadata": {},
   "source": [
    "<strong>Exercise 17:</strong> Figure out how many different items have been ordered\n",
    "\n"
   ]
  },
  {
   "cell_type": "code",
   "execution_count": 47,
   "id": "9b201f1d",
   "metadata": {},
   "outputs": [
    {
     "name": "stdout",
     "output_type": "stream",
     "text": [
      "item_name\n",
      "Chicken Bowl                             761\n",
      "Chicken Burrito                          591\n",
      "Chips and Guacamole                      506\n",
      "Steak Burrito                            386\n",
      "Canned Soft Drink                        351\n",
      "Chips                                    230\n",
      "Steak Bowl                               221\n",
      "Bottled Water                            211\n",
      "Chips and Fresh Tomato Salsa             130\n",
      "Canned Soda                              126\n",
      "Chicken Salad Bowl                       123\n",
      "Chicken Soft Tacos                       120\n",
      "Side of Chips                            110\n",
      "Veggie Burrito                            97\n",
      "Barbacoa Burrito                          91\n",
      "Veggie Bowl                               87\n",
      "Carnitas Bowl                             71\n",
      "Barbacoa Bowl                             66\n",
      "Carnitas Burrito                          60\n",
      "Steak Soft Tacos                          56\n",
      "6 Pack Soft Drink                         55\n",
      "Chips and Tomatillo Red Chili Salsa       50\n",
      "Chicken Crispy Tacos                      50\n",
      "Chips and Tomatillo Green Chili Salsa     45\n",
      "Carnitas Soft Tacos                       40\n",
      "Steak Crispy Tacos                        36\n",
      "Chips and Tomatillo-Green Chili Salsa     33\n",
      "Steak Salad Bowl                          31\n",
      "Nantucket Nectar                          29\n",
      "Chips and Tomatillo-Red Chili Salsa       25\n",
      "Barbacoa Soft Tacos                       25\n",
      "Chips and Roasted Chili Corn Salsa        23\n",
      "Izze                                      20\n",
      "Veggie Salad Bowl                         18\n",
      "Chips and Roasted Chili-Corn Salsa        18\n",
      "Barbacoa Crispy Tacos                     12\n",
      "Barbacoa Salad Bowl                       10\n",
      "Chicken Salad                              9\n",
      "Carnitas Crispy Tacos                      8\n",
      "Veggie Soft Tacos                          8\n",
      "Burrito                                    6\n",
      "Veggie Salad                               6\n",
      "Carnitas Salad Bowl                        6\n",
      "Bowl                                       4\n",
      "Steak Salad                                4\n",
      "Salad                                      2\n",
      "Crispy Tacos                               2\n",
      "Chips and Mild Fresh Tomato Salsa          1\n",
      "Carnitas Salad                             1\n",
      "Veggie Crispy Tacos                        1\n",
      "Name: quantity, dtype: int64\n"
     ]
    }
   ],
   "source": [
    "### Your code starts here ###\n",
    "\n",
    "\n",
    "\n",
    "### Your code ends here ###\n",
    "\n",
    "print(quantity_item_orders.loc[:,'quantity'])"
   ]
  },
  {
   "cell_type": "markdown",
   "id": "45438271",
   "metadata": {},
   "source": [
    "<strong>Exercise 18:</strong> Figure out the most ordered item in the \"choice_description\" column"
   ]
  },
  {
   "cell_type": "code",
   "execution_count": 48,
   "id": "826dcc45",
   "metadata": {},
   "outputs": [
    {
     "name": "stdout",
     "output_type": "stream",
     "text": [
      "The most ordered item in the choice description column is [Diet Coke] with 159 orders\n"
     ]
    }
   ],
   "source": [
    "### Your code starts here ###\n",
    "\n",
    "\n",
    "\n",
    "### Your code ends here ###\n",
    "\n",
    "print (\"The most ordered item in the choice description column is {0:s} with {1:s} orders\".format(str(most_ordered.index[0]),str(most_ordered['quantity'][0])))\n"
   ]
  },
  {
   "cell_type": "markdown",
   "id": "a0f0a6d7",
   "metadata": {},
   "source": [
    "<strong>Exercise 19:</strong> Figure out the least ordered item in the \"choice_description\" column"
   ]
  },
  {
   "cell_type": "code",
   "execution_count": 49,
   "id": "fc2729a3",
   "metadata": {},
   "outputs": [
    {
     "name": "stdout",
     "output_type": "stream",
     "text": [
      "The least ordered item in the choice description column is [Adobo-Marinated and Grilled Chicken, Pinto Beans, [Sour Cream, Salsa, Cheese, Cilantro-Lime Rice, Guacamole]] with 1 order's'\n"
     ]
    }
   ],
   "source": [
    "### Your code starts here ###\n",
    "\n",
    "choice_orders = menu_orders[['choice_description','quantity']].groupby('choice_description').sum('quantity')\n",
    "choice_orders = choice_orders.sort_values(['quantity'], ascending=True)\n",
    "least_ordered = choice_orders.head(1)\n",
    "\n",
    "### Your code ends here ###\n",
    "\n",
    "print (\"The least ordered item in the choice description column is {0:s} with {1:s} order's'\".format(str(least_ordered.index[0]),str(least_ordered['quantity'][0])))\n"
   ]
  },
  {
   "cell_type": "markdown",
   "id": "edde3deb",
   "metadata": {},
   "source": [
    "<strong>Exercise 20:</strong> Figure out the total ordered items"
   ]
  },
  {
   "cell_type": "code",
   "execution_count": 50,
   "id": "00533832",
   "metadata": {},
   "outputs": [
    {
     "name": "stdout",
     "output_type": "stream",
     "text": [
      "The total number of ordered items is 4972\n"
     ]
    }
   ],
   "source": [
    "### Your code starts here ###\n",
    "\n",
    "\n",
    "\n",
    "### Your code ends here ###\n",
    "\n",
    "print(\"The total number of ordered items is {0:d}\".format(total_orders))\n",
    "\n"
   ]
  },
  {
   "cell_type": "markdown",
   "id": "36563fdf",
   "metadata": {},
   "source": [
    "If you've reached this point, you now know how to master one the most powerful tools of pandas. You might have realized that a deep understanding of the data you're dealing with is key to success"
   ]
  },
  {
   "cell_type": "markdown",
   "id": "e2110708",
   "metadata": {},
   "source": [
    "Let's introduce custom function application. In pandas you can define you own function and <strong>apply</strong> it to your dataframe"
   ]
  },
  {
   "cell_type": "markdown",
   "id": "07959b3a",
   "metadata": {},
   "source": [
    "<strong>Exercise 21: </strong> Convert the column item_price into a number. Apply this conversion to a new dataframe called menu_orders_copy"
   ]
  },
  {
   "cell_type": "code",
   "execution_count": 51,
   "id": "78bad98a",
   "metadata": {},
   "outputs": [
    {
     "name": "stdout",
     "output_type": "stream",
     "text": [
      "<class 'pandas.core.frame.DataFrame'>\n",
      "RangeIndex: 4622 entries, 0 to 4621\n",
      "Data columns (total 5 columns):\n",
      " #   Column              Non-Null Count  Dtype  \n",
      "---  ------              --------------  -----  \n",
      " 0   order_id            4622 non-null   int64  \n",
      " 1   quantity            4622 non-null   int64  \n",
      " 2   item_name           4622 non-null   object \n",
      " 3   choice_description  3376 non-null   object \n",
      " 4   item_price          4622 non-null   float64\n",
      "dtypes: float64(1), int64(2), object(2)\n",
      "memory usage: 180.7+ KB\n"
     ]
    }
   ],
   "source": [
    "### Your code starts here ###\n",
    "\n",
    "\n",
    "### Your code ends here ###\n",
    "\n",
    "menu_orders_copy.info()"
   ]
  },
  {
   "cell_type": "markdown",
   "id": "4fc21352",
   "metadata": {},
   "source": [
    "Now you have your price column as float dtype, you can operate with it. Let's do some number crunching"
   ]
  },
  {
   "cell_type": "markdown",
   "id": "a7b1514b",
   "metadata": {},
   "source": [
    "<strong>Exercise 22: </strong> Calculate the total revenue obtained:"
   ]
  },
  {
   "cell_type": "code",
   "execution_count": 52,
   "id": "3241452e",
   "metadata": {},
   "outputs": [
    {
     "name": "stdout",
     "output_type": "stream",
     "text": [
      "The total revenue is $39237.02\n"
     ]
    }
   ],
   "source": [
    "### Your code starts here ###\n",
    "\n",
    "\n",
    "\n",
    "### Your code ends here ###\n",
    "\n",
    "print(\"The total revenue is ${0:.2f}\".format(revenue))"
   ]
  },
  {
   "cell_type": "markdown",
   "id": "d78b29a1",
   "metadata": {},
   "source": [
    "<strong>Exercise 23: </strong> Calculate number of orders made in the datasets"
   ]
  },
  {
   "cell_type": "code",
   "execution_count": 53,
   "id": "87380aaa",
   "metadata": {},
   "outputs": [
    {
     "name": "stdout",
     "output_type": "stream",
     "text": [
      "The number of orders is 1834\n"
     ]
    }
   ],
   "source": [
    "### Your code starts here ###\n",
    "\n",
    "\n",
    "### Your code ends here ###\n",
    "\n",
    "print(\"The number of orders is {0:d}\".format(total_orders))"
   ]
  },
  {
   "cell_type": "markdown",
   "id": "a546b80f",
   "metadata": {},
   "source": [
    "<strong>Exercise 24: </strong> Calculate the average spend per order"
   ]
  },
  {
   "cell_type": "code",
   "execution_count": 54,
   "id": "6205ef28",
   "metadata": {},
   "outputs": [
    {
     "name": "stdout",
     "output_type": "stream",
     "text": [
      "The average spend per order is $18.81\n"
     ]
    }
   ],
   "source": [
    "### Your code starts here ###\n",
    "\n",
    "\n",
    "\n",
    "### Your code ends here ###\n",
    "\n",
    "print (\"The average spend per order is ${0:.2f}\".format(average_spend))"
   ]
  },
  {
   "cell_type": "markdown",
   "id": "080fb351",
   "metadata": {},
   "source": [
    "<strong>Exercise 25: </strong> Calculate the total number of different sold items"
   ]
  },
  {
   "cell_type": "code",
   "execution_count": 55,
   "id": "c706f9bb",
   "metadata": {},
   "outputs": [
    {
     "name": "stdout",
     "output_type": "stream",
     "text": [
      "The total number of different items sold is 50\n"
     ]
    }
   ],
   "source": [
    "### Your code starts here ###\n",
    "\n",
    "\n",
    "\n",
    "### Your code ends here ###\n",
    "\n",
    "print (\"The total number of different items sold is {0:d}\".format(different_items))"
   ]
  },
  {
   "cell_type": "markdown",
   "id": "da4d024d",
   "metadata": {},
   "source": [
    "## 5. Filtering and Sorting"
   ]
  },
  {
   "cell_type": "markdown",
   "id": "f200b6ed",
   "metadata": {},
   "source": [
    "You should master how to filter and sort data in pandas if you want to reach awesome results. Let's learn how to filter data in pandas dataframes"
   ]
  },
  {
   "cell_type": "markdown",
   "id": "7328292f",
   "metadata": {},
   "source": [
    "<strong>Exercise 26: <strong> Calculate how many orders include an item that costs over $11.50"
   ]
  },
  {
   "cell_type": "code",
   "execution_count": 56,
   "id": "5dfc8d9f",
   "metadata": {},
   "outputs": [
    {
     "name": "stdout",
     "output_type": "stream",
     "text": [
      "The number of orders with item over $11.50 is 442 \n"
     ]
    }
   ],
   "source": [
    "### Your code starts here ###\n",
    "\n",
    "\n",
    "### Your code ends here ###\n",
    "\n",
    "print (\"The number of orders with item over $11.50 is {0:d} \".format(number_of_orders))"
   ]
  },
  {
   "cell_type": "markdown",
   "id": "dba83278",
   "metadata": {},
   "source": [
    "You can combine more than one conditional statement to fine tune you filtering. Let's try it"
   ]
  },
  {
   "cell_type": "markdown",
   "id": "c0a90baa",
   "metadata": {},
   "source": [
    "<strong>Exercise 27: <strong> Calculate how many orders include an item that costs above 11.50 and below 17.00"
   ]
  },
  {
   "cell_type": "code",
   "execution_count": 57,
   "id": "1cdfa37f",
   "metadata": {},
   "outputs": [
    {
     "name": "stdout",
     "output_type": "stream",
     "text": [
      "The number of orders with an item over $11.50 and below $17.00 is 335 \n"
     ]
    }
   ],
   "source": [
    "### Your code starts here ###\n",
    "\n",
    "\n",
    "\n",
    "### Your code ends here ###\n",
    "\n",
    "print (\"The number of orders with an item over $11.50 and below $17.00 is {0:d} \".format(number_of_orders))"
   ]
  },
  {
   "cell_type": "markdown",
   "id": "5b30e848",
   "metadata": {},
   "source": [
    "Next exercise is somehow challenging! Short question, hard work..."
   ]
  },
  {
   "cell_type": "markdown",
   "id": "adf0bb94",
   "metadata": {},
   "source": [
    "<strong>Exercise 28: <strong> Show a table with all items and their price"
   ]
  },
  {
   "cell_type": "code",
   "execution_count": 58,
   "id": "3a5beccd",
   "metadata": {},
   "outputs": [
    {
     "data": {
      "text/html": [
       "<div>\n",
       "<style scoped>\n",
       "    .dataframe tbody tr th:only-of-type {\n",
       "        vertical-align: middle;\n",
       "    }\n",
       "\n",
       "    .dataframe tbody tr th {\n",
       "        vertical-align: top;\n",
       "    }\n",
       "\n",
       "    .dataframe thead th {\n",
       "        text-align: right;\n",
       "    }\n",
       "</style>\n",
       "<table border=\"1\" class=\"dataframe\">\n",
       "  <thead>\n",
       "    <tr style=\"text-align: right;\">\n",
       "      <th></th>\n",
       "      <th>item_name</th>\n",
       "      <th>item_price</th>\n",
       "    </tr>\n",
       "  </thead>\n",
       "  <tbody>\n",
       "    <tr>\n",
       "      <th>92</th>\n",
       "      <td>Steak Crispy Tacos</td>\n",
       "      <td>$9.25</td>\n",
       "    </tr>\n",
       "    <tr>\n",
       "      <th>554</th>\n",
       "      <td>Carnitas Crispy Tacos</td>\n",
       "      <td>$9.25</td>\n",
       "    </tr>\n",
       "    <tr>\n",
       "      <th>237</th>\n",
       "      <td>Carnitas Soft Tacos</td>\n",
       "      <td>$9.25</td>\n",
       "    </tr>\n",
       "    <tr>\n",
       "      <th>56</th>\n",
       "      <td>Barbacoa Soft Tacos</td>\n",
       "      <td>$9.25</td>\n",
       "    </tr>\n",
       "    <tr>\n",
       "      <th>8</th>\n",
       "      <td>Steak Soft Tacos</td>\n",
       "      <td>$9.25</td>\n",
       "    </tr>\n",
       "    <tr>\n",
       "      <th>21</th>\n",
       "      <td>Barbacoa Burrito</td>\n",
       "      <td>$8.99</td>\n",
       "    </tr>\n",
       "    <tr>\n",
       "      <th>664</th>\n",
       "      <td>Steak Salad</td>\n",
       "      <td>$8.99</td>\n",
       "    </tr>\n",
       "    <tr>\n",
       "      <th>54</th>\n",
       "      <td>Steak Bowl</td>\n",
       "      <td>$8.99</td>\n",
       "    </tr>\n",
       "    <tr>\n",
       "      <th>33</th>\n",
       "      <td>Carnitas Bowl</td>\n",
       "      <td>$8.99</td>\n",
       "    </tr>\n",
       "    <tr>\n",
       "      <th>27</th>\n",
       "      <td>Carnitas Burrito</td>\n",
       "      <td>$8.99</td>\n",
       "    </tr>\n",
       "    <tr>\n",
       "      <th>3750</th>\n",
       "      <td>Carnitas Salad</td>\n",
       "      <td>$8.99</td>\n",
       "    </tr>\n",
       "    <tr>\n",
       "      <th>12</th>\n",
       "      <td>Chicken Soft Tacos</td>\n",
       "      <td>$8.75</td>\n",
       "    </tr>\n",
       "    <tr>\n",
       "      <th>11</th>\n",
       "      <td>Chicken Crispy Tacos</td>\n",
       "      <td>$8.75</td>\n",
       "    </tr>\n",
       "    <tr>\n",
       "      <th>44</th>\n",
       "      <td>Chicken Salad Bowl</td>\n",
       "      <td>$8.75</td>\n",
       "    </tr>\n",
       "    <tr>\n",
       "      <th>16</th>\n",
       "      <td>Chicken Burrito</td>\n",
       "      <td>$8.49</td>\n",
       "    </tr>\n",
       "    <tr>\n",
       "      <th>1694</th>\n",
       "      <td>Veggie Salad</td>\n",
       "      <td>$8.49</td>\n",
       "    </tr>\n",
       "    <tr>\n",
       "      <th>1653</th>\n",
       "      <td>Veggie Crispy Tacos</td>\n",
       "      <td>$8.49</td>\n",
       "    </tr>\n",
       "    <tr>\n",
       "      <th>1414</th>\n",
       "      <td>Salad</td>\n",
       "      <td>$7.40</td>\n",
       "    </tr>\n",
       "    <tr>\n",
       "      <th>673</th>\n",
       "      <td>Bowl</td>\n",
       "      <td>$7.40</td>\n",
       "    </tr>\n",
       "    <tr>\n",
       "      <th>520</th>\n",
       "      <td>Crispy Tacos</td>\n",
       "      <td>$7.40</td>\n",
       "    </tr>\n",
       "    <tr>\n",
       "      <th>510</th>\n",
       "      <td>Burrito</td>\n",
       "      <td>$7.40</td>\n",
       "    </tr>\n",
       "    <tr>\n",
       "      <th>298</th>\n",
       "      <td>6 Pack Soft Drink</td>\n",
       "      <td>$6.49</td>\n",
       "    </tr>\n",
       "    <tr>\n",
       "      <th>10</th>\n",
       "      <td>Chips and Guacamole</td>\n",
       "      <td>$4.45</td>\n",
       "    </tr>\n",
       "    <tr>\n",
       "      <th>2</th>\n",
       "      <td>Nantucket Nectar</td>\n",
       "      <td>$3.39</td>\n",
       "    </tr>\n",
       "    <tr>\n",
       "      <th>1</th>\n",
       "      <td>Izze</td>\n",
       "      <td>$3.39</td>\n",
       "    </tr>\n",
       "    <tr>\n",
       "      <th>674</th>\n",
       "      <td>Chips and Mild Fresh Tomato Salsa</td>\n",
       "      <td>$3.00</td>\n",
       "    </tr>\n",
       "    <tr>\n",
       "      <th>233</th>\n",
       "      <td>Chips and Roasted Chili Corn Salsa</td>\n",
       "      <td>$2.95</td>\n",
       "    </tr>\n",
       "    <tr>\n",
       "      <th>38</th>\n",
       "      <td>Chips and Tomatillo Green Chili Salsa</td>\n",
       "      <td>$2.95</td>\n",
       "    </tr>\n",
       "    <tr>\n",
       "      <th>111</th>\n",
       "      <td>Chips and Tomatillo Red Chili Salsa</td>\n",
       "      <td>$2.95</td>\n",
       "    </tr>\n",
       "    <tr>\n",
       "      <th>3</th>\n",
       "      <td>Chips and Tomatillo-Green Chili Salsa</td>\n",
       "      <td>$2.39</td>\n",
       "    </tr>\n",
       "    <tr>\n",
       "      <th>300</th>\n",
       "      <td>Chips and Tomatillo-Red Chili Salsa</td>\n",
       "      <td>$2.39</td>\n",
       "    </tr>\n",
       "    <tr>\n",
       "      <th>0</th>\n",
       "      <td>Chips and Fresh Tomato Salsa</td>\n",
       "      <td>$2.39</td>\n",
       "    </tr>\n",
       "    <tr>\n",
       "      <th>191</th>\n",
       "      <td>Chips and Roasted Chili-Corn Salsa</td>\n",
       "      <td>$2.39</td>\n",
       "    </tr>\n",
       "    <tr>\n",
       "      <th>40</th>\n",
       "      <td>Chips</td>\n",
       "      <td>$2.15</td>\n",
       "    </tr>\n",
       "    <tr>\n",
       "      <th>606</th>\n",
       "      <td>Steak Salad Bowl</td>\n",
       "      <td>$11.89</td>\n",
       "    </tr>\n",
       "    <tr>\n",
       "      <th>1229</th>\n",
       "      <td>Barbacoa Salad Bowl</td>\n",
       "      <td>$11.89</td>\n",
       "    </tr>\n",
       "    <tr>\n",
       "      <th>1132</th>\n",
       "      <td>Carnitas Salad Bowl</td>\n",
       "      <td>$11.89</td>\n",
       "    </tr>\n",
       "    <tr>\n",
       "      <th>39</th>\n",
       "      <td>Barbacoa Bowl</td>\n",
       "      <td>$11.75</td>\n",
       "    </tr>\n",
       "    <tr>\n",
       "      <th>7</th>\n",
       "      <td>Steak Burrito</td>\n",
       "      <td>$11.75</td>\n",
       "    </tr>\n",
       "    <tr>\n",
       "      <th>168</th>\n",
       "      <td>Barbacoa Crispy Tacos</td>\n",
       "      <td>$11.75</td>\n",
       "    </tr>\n",
       "    <tr>\n",
       "      <th>186</th>\n",
       "      <td>Veggie Salad Bowl</td>\n",
       "      <td>$11.25</td>\n",
       "    </tr>\n",
       "    <tr>\n",
       "      <th>738</th>\n",
       "      <td>Veggie Soft Tacos</td>\n",
       "      <td>$11.25</td>\n",
       "    </tr>\n",
       "    <tr>\n",
       "      <th>57</th>\n",
       "      <td>Veggie Burrito</td>\n",
       "      <td>$11.25</td>\n",
       "    </tr>\n",
       "    <tr>\n",
       "      <th>62</th>\n",
       "      <td>Veggie Bowl</td>\n",
       "      <td>$11.25</td>\n",
       "    </tr>\n",
       "    <tr>\n",
       "      <th>5</th>\n",
       "      <td>Chicken Bowl</td>\n",
       "      <td>$10.98</td>\n",
       "    </tr>\n",
       "    <tr>\n",
       "      <th>250</th>\n",
       "      <td>Chicken Salad</td>\n",
       "      <td>$10.98</td>\n",
       "    </tr>\n",
       "    <tr>\n",
       "      <th>6</th>\n",
       "      <td>Side of Chips</td>\n",
       "      <td>$1.69</td>\n",
       "    </tr>\n",
       "    <tr>\n",
       "      <th>263</th>\n",
       "      <td>Canned Soft Drink</td>\n",
       "      <td>$1.25</td>\n",
       "    </tr>\n",
       "    <tr>\n",
       "      <th>34</th>\n",
       "      <td>Bottled Water</td>\n",
       "      <td>$1.09</td>\n",
       "    </tr>\n",
       "    <tr>\n",
       "      <th>28</th>\n",
       "      <td>Canned Soda</td>\n",
       "      <td>$1.09</td>\n",
       "    </tr>\n",
       "  </tbody>\n",
       "</table>\n",
       "</div>"
      ],
      "text/plain": [
       "                                  item_name item_price\n",
       "92                       Steak Crispy Tacos     $9.25 \n",
       "554                   Carnitas Crispy Tacos     $9.25 \n",
       "237                     Carnitas Soft Tacos     $9.25 \n",
       "56                      Barbacoa Soft Tacos     $9.25 \n",
       "8                          Steak Soft Tacos     $9.25 \n",
       "21                         Barbacoa Burrito     $8.99 \n",
       "664                             Steak Salad     $8.99 \n",
       "54                               Steak Bowl     $8.99 \n",
       "33                            Carnitas Bowl     $8.99 \n",
       "27                         Carnitas Burrito     $8.99 \n",
       "3750                         Carnitas Salad     $8.99 \n",
       "12                       Chicken Soft Tacos     $8.75 \n",
       "11                     Chicken Crispy Tacos     $8.75 \n",
       "44                       Chicken Salad Bowl     $8.75 \n",
       "16                          Chicken Burrito     $8.49 \n",
       "1694                           Veggie Salad     $8.49 \n",
       "1653                    Veggie Crispy Tacos     $8.49 \n",
       "1414                                  Salad     $7.40 \n",
       "673                                    Bowl     $7.40 \n",
       "520                            Crispy Tacos     $7.40 \n",
       "510                                 Burrito     $7.40 \n",
       "298                       6 Pack Soft Drink     $6.49 \n",
       "10                      Chips and Guacamole     $4.45 \n",
       "2                          Nantucket Nectar     $3.39 \n",
       "1                                      Izze     $3.39 \n",
       "674       Chips and Mild Fresh Tomato Salsa     $3.00 \n",
       "233      Chips and Roasted Chili Corn Salsa     $2.95 \n",
       "38    Chips and Tomatillo Green Chili Salsa     $2.95 \n",
       "111     Chips and Tomatillo Red Chili Salsa     $2.95 \n",
       "3     Chips and Tomatillo-Green Chili Salsa     $2.39 \n",
       "300     Chips and Tomatillo-Red Chili Salsa     $2.39 \n",
       "0              Chips and Fresh Tomato Salsa     $2.39 \n",
       "191      Chips and Roasted Chili-Corn Salsa     $2.39 \n",
       "40                                    Chips     $2.15 \n",
       "606                        Steak Salad Bowl    $11.89 \n",
       "1229                    Barbacoa Salad Bowl    $11.89 \n",
       "1132                    Carnitas Salad Bowl    $11.89 \n",
       "39                            Barbacoa Bowl    $11.75 \n",
       "7                             Steak Burrito    $11.75 \n",
       "168                   Barbacoa Crispy Tacos    $11.75 \n",
       "186                       Veggie Salad Bowl    $11.25 \n",
       "738                       Veggie Soft Tacos    $11.25 \n",
       "57                           Veggie Burrito    $11.25 \n",
       "62                              Veggie Bowl    $11.25 \n",
       "5                              Chicken Bowl    $10.98 \n",
       "250                           Chicken Salad    $10.98 \n",
       "6                             Side of Chips     $1.69 \n",
       "263                       Canned Soft Drink     $1.25 \n",
       "34                            Bottled Water     $1.09 \n",
       "28                              Canned Soda     $1.09 "
      ]
     },
     "execution_count": 58,
     "metadata": {},
     "output_type": "execute_result"
    }
   ],
   "source": [
    "### Your code starts here ###\n",
    "\n",
    "\n",
    "\n",
    "### Your code ends here ###\n",
    "\n"
   ]
  },
  {
   "cell_type": "markdown",
   "id": "42812e2e",
   "metadata": {},
   "source": [
    "<strong>Exercise 29: </strong> Figure out how many times people have ordered more than 1 Side of Chips"
   ]
  },
  {
   "cell_type": "code",
   "execution_count": 60,
   "id": "01dbaa1a",
   "metadata": {},
   "outputs": [
    {
     "name": "stdout",
     "output_type": "stream",
     "text": [
      "The times that people have order Side of chips more than once is 2\n"
     ]
    }
   ],
   "source": [
    "### Your code starts here ###\n",
    "\n",
    "\n",
    "\n",
    "### Your code ends here ###\n",
    "\n",
    "print(\"The times that people have order Side of chips more than once is {0:d}\".format(len(num_orders_coke)))"
   ]
  },
  {
   "cell_type": "markdown",
   "id": "65bc9848",
   "metadata": {},
   "source": [
    "## 6. Applying customized functions"
   ]
  },
  {
   "cell_type": "markdown",
   "id": "8dfd8d8e",
   "metadata": {},
   "source": [
    "We've already introduce how to apply custom functions to our dataframe, let's dive into it"
   ]
  },
  {
   "cell_type": "markdown",
   "id": "2e84b432",
   "metadata": {},
   "source": [
    "<strong>Exercise 30: </strong> Capitalize all the strings of item_name column"
   ]
  },
  {
   "cell_type": "code",
   "execution_count": 61,
   "id": "ebd1b259",
   "metadata": {},
   "outputs": [
    {
     "data": {
      "text/plain": [
       "0                CHIPS AND FRESH TOMATO SALSA\n",
       "1                                        IZZE\n",
       "2                            NANTUCKET NECTAR\n",
       "3       CHIPS AND TOMATILLO-GREEN CHILI SALSA\n",
       "4                                CHICKEN BOWL\n",
       "                        ...                  \n",
       "4617                            STEAK BURRITO\n",
       "4618                            STEAK BURRITO\n",
       "4619                       CHICKEN SALAD BOWL\n",
       "4620                       CHICKEN SALAD BOWL\n",
       "4621                       CHICKEN SALAD BOWL\n",
       "Name: item_name, Length: 4622, dtype: object"
      ]
     },
     "execution_count": 61,
     "metadata": {},
     "output_type": "execute_result"
    }
   ],
   "source": [
    "### Your code starts here ###\n",
    "\n",
    "\n",
    "\n",
    "### Your code ends here\n",
    "\n",
    "menu_orders_copy['item_name'].apply(capitalizer)"
   ]
  },
  {
   "cell_type": "markdown",
   "id": "8531d16e",
   "metadata": {},
   "source": [
    "<strong>Exercise 31: </strong> Check if the column item_name keeps the capitalization. If not fix it to keep letters capitalized"
   ]
  },
  {
   "cell_type": "code",
   "execution_count": 62,
   "id": "180479b2",
   "metadata": {},
   "outputs": [
    {
     "name": "stdout",
     "output_type": "stream",
     "text": [
      "0                Chips and Fresh Tomato Salsa\n",
      "1                                        Izze\n",
      "2                            Nantucket Nectar\n",
      "3       Chips and Tomatillo-Green Chili Salsa\n",
      "4                                Chicken Bowl\n",
      "                        ...                  \n",
      "4617                            Steak Burrito\n",
      "4618                            Steak Burrito\n",
      "4619                       Chicken Salad Bowl\n",
      "4620                       Chicken Salad Bowl\n",
      "4621                       Chicken Salad Bowl\n",
      "Name: item_name, Length: 4622, dtype: object\n",
      "0                CHIPS AND FRESH TOMATO SALSA\n",
      "1                                        IZZE\n",
      "2                            NANTUCKET NECTAR\n",
      "3       CHIPS AND TOMATILLO-GREEN CHILI SALSA\n",
      "4                                CHICKEN BOWL\n",
      "                        ...                  \n",
      "4617                            STEAK BURRITO\n",
      "4618                            STEAK BURRITO\n",
      "4619                       CHICKEN SALAD BOWL\n",
      "4620                       CHICKEN SALAD BOWL\n",
      "4621                       CHICKEN SALAD BOWL\n",
      "Name: item_name, Length: 4622, dtype: object\n"
     ]
    }
   ],
   "source": [
    "### Your code starts here ###\n",
    "\n",
    "\n",
    "\n",
    "### Your code ends here\n",
    "\n",
    "print(menu_orders_copy['item_name'])"
   ]
  },
  {
   "cell_type": "markdown",
   "id": "13570478",
   "metadata": {},
   "source": [
    "<strong>Exercise 32: </strong> Add a column that specifies if the order is Vegetarian or not"
   ]
  },
  {
   "cell_type": "code",
   "execution_count": 70,
   "id": "733a0075",
   "metadata": {},
   "outputs": [
    {
     "name": "stdout",
     "output_type": "stream",
     "text": [
      "      order_id  quantity                              item_name  \\\n",
      "0            1         1           CHIPS AND FRESH TOMATO SALSA   \n",
      "1            1         1                                   IZZE   \n",
      "2            1         1                       NANTUCKET NECTAR   \n",
      "3            1         1  CHIPS AND TOMATILLO-GREEN CHILI SALSA   \n",
      "4            2         2                           CHICKEN BOWL   \n",
      "...        ...       ...                                    ...   \n",
      "4617      1833         1                          STEAK BURRITO   \n",
      "4618      1833         1                          STEAK BURRITO   \n",
      "4619      1834         1                     CHICKEN SALAD BOWL   \n",
      "4620      1834         1                     CHICKEN SALAD BOWL   \n",
      "4621      1834         1                     CHICKEN SALAD BOWL   \n",
      "\n",
      "                                     choice_description  item_price  \\\n",
      "0                                                   NaN        2.39   \n",
      "1                                          [Clementine]        3.39   \n",
      "2                                               [Apple]        3.39   \n",
      "3                                                   NaN        2.39   \n",
      "4     [Tomatillo-Red Chili Salsa (Hot), [Black Beans...       16.98   \n",
      "...                                                 ...         ...   \n",
      "4617  [Fresh Tomato Salsa, [Rice, Black Beans, Sour ...       11.75   \n",
      "4618  [Fresh Tomato Salsa, [Rice, Sour Cream, Cheese...       11.75   \n",
      "4619  [Fresh Tomato Salsa, [Fajita Vegetables, Pinto...       11.25   \n",
      "4620  [Fresh Tomato Salsa, [Fajita Vegetables, Lettu...        8.75   \n",
      "4621  [Fresh Tomato Salsa, [Fajita Vegetables, Pinto...        8.75   \n",
      "\n",
      "      vegetarian  \n",
      "0          False  \n",
      "1          False  \n",
      "2          False  \n",
      "3          False  \n",
      "4           True  \n",
      "...          ...  \n",
      "4617        True  \n",
      "4618        True  \n",
      "4619        True  \n",
      "4620        True  \n",
      "4621        True  \n",
      "\n",
      "[4622 rows x 6 columns]\n"
     ]
    }
   ],
   "source": [
    "### Your code starts here ###\n",
    "\n",
    "\n",
    "\n",
    "###Your code ends here ###\n",
    "\n",
    "print(menu_orders_copy)"
   ]
  },
  {
   "cell_type": "markdown",
   "id": "2d46a9b5",
   "metadata": {},
   "source": [
    "## 6. Splitting and merging dataframes"
   ]
  },
  {
   "cell_type": "markdown",
   "id": "1cb025b0",
   "metadata": {},
   "source": [
    "Pandas provides you with useful methods to split and join dataframes, let's review them"
   ]
  },
  {
   "cell_type": "markdown",
   "id": "f3d7803c",
   "metadata": {},
   "source": [
    "<strong>Exercise 33: </strong> Split dataframe in two equal dataframes in terms of number of rows"
   ]
  },
  {
   "cell_type": "code",
   "execution_count": 71,
   "id": "00dde310",
   "metadata": {},
   "outputs": [
    {
     "name": "stdout",
     "output_type": "stream",
     "text": [
      "<class 'pandas.core.frame.DataFrame'>\n",
      "RangeIndex: 2311 entries, 0 to 2310\n",
      "Data columns (total 6 columns):\n",
      " #   Column              Non-Null Count  Dtype  \n",
      "---  ------              --------------  -----  \n",
      " 0   order_id            2311 non-null   int64  \n",
      " 1   quantity            2311 non-null   int64  \n",
      " 2   item_name           2311 non-null   object \n",
      " 3   choice_description  1700 non-null   object \n",
      " 4   item_price          2311 non-null   float64\n",
      " 5   vegetarian          2311 non-null   boolean\n",
      "dtypes: boolean(1), float64(1), int64(2), object(2)\n",
      "memory usage: 94.9+ KB\n",
      "None\n",
      "<class 'pandas.core.frame.DataFrame'>\n",
      "RangeIndex: 2311 entries, 2311 to 4621\n",
      "Data columns (total 6 columns):\n",
      " #   Column              Non-Null Count  Dtype  \n",
      "---  ------              --------------  -----  \n",
      " 0   order_id            2311 non-null   int64  \n",
      " 1   quantity            2311 non-null   int64  \n",
      " 2   item_name           2311 non-null   object \n",
      " 3   choice_description  1676 non-null   object \n",
      " 4   item_price          2311 non-null   float64\n",
      " 5   vegetarian          2311 non-null   boolean\n",
      "dtypes: boolean(1), float64(1), int64(2), object(2)\n",
      "memory usage: 94.9+ KB\n",
      "None\n"
     ]
    }
   ],
   "source": [
    "### Your code starts here ###\n",
    "\n",
    "\n",
    "### Your code ends here ###\n",
    "\n",
    "print(first_dataframe.info())\n",
    "\n",
    "print(second_dataframe.info())"
   ]
  },
  {
   "cell_type": "markdown",
   "id": "ca6da310",
   "metadata": {},
   "source": [
    "<strong>Exercise 34: </strong> Rejoin the two dataframes and check if both of them are equal"
   ]
  },
  {
   "cell_type": "code",
   "execution_count": 72,
   "id": "804f3252",
   "metadata": {},
   "outputs": [
    {
     "name": "stdout",
     "output_type": "stream",
     "text": [
      "Both dataframes are equal, well done!\n"
     ]
    }
   ],
   "source": [
    "### Your code starts here ###\n",
    "\n",
    "\n",
    "### Your code ends here ###\n",
    "\n"
   ]
  },
  {
   "cell_type": "markdown",
   "id": "35db6dc5",
   "metadata": {},
   "source": [
    "<strong>Exercise 35: </strong> Join dataframes in terms of columns, second dataframe should be to the right of first dataframe"
   ]
  },
  {
   "cell_type": "code",
   "execution_count": 73,
   "id": "98d2e70f",
   "metadata": {},
   "outputs": [
    {
     "name": "stdout",
     "output_type": "stream",
     "text": [
      "      order_id  quantity                              item_name  \\\n",
      "0          1.0       1.0           CHIPS AND FRESH TOMATO SALSA   \n",
      "1          1.0       1.0                                   IZZE   \n",
      "2          1.0       1.0                       NANTUCKET NECTAR   \n",
      "3          1.0       1.0  CHIPS AND TOMATILLO-GREEN CHILI SALSA   \n",
      "4          2.0       2.0                           CHICKEN BOWL   \n",
      "...        ...       ...                                    ...   \n",
      "4617       NaN       NaN                                    NaN   \n",
      "4618       NaN       NaN                                    NaN   \n",
      "4619       NaN       NaN                                    NaN   \n",
      "4620       NaN       NaN                                    NaN   \n",
      "4621       NaN       NaN                                    NaN   \n",
      "\n",
      "                                     choice_description  item_price  \\\n",
      "0                                                   NaN        2.39   \n",
      "1                                          [Clementine]        3.39   \n",
      "2                                               [Apple]        3.39   \n",
      "3                                                   NaN        2.39   \n",
      "4     [Tomatillo-Red Chili Salsa (Hot), [Black Beans...       16.98   \n",
      "...                                                 ...         ...   \n",
      "4617                                                NaN         NaN   \n",
      "4618                                                NaN         NaN   \n",
      "4619                                                NaN         NaN   \n",
      "4620                                                NaN         NaN   \n",
      "4621                                                NaN         NaN   \n",
      "\n",
      "      vegetarian  order_id  quantity           item_name  \\\n",
      "0          False       NaN       NaN                 NaN   \n",
      "1          False       NaN       NaN                 NaN   \n",
      "2          False       NaN       NaN                 NaN   \n",
      "3          False       NaN       NaN                 NaN   \n",
      "4           True       NaN       NaN                 NaN   \n",
      "...          ...       ...       ...                 ...   \n",
      "4617        <NA>    1833.0       1.0       STEAK BURRITO   \n",
      "4618        <NA>    1833.0       1.0       STEAK BURRITO   \n",
      "4619        <NA>    1834.0       1.0  CHICKEN SALAD BOWL   \n",
      "4620        <NA>    1834.0       1.0  CHICKEN SALAD BOWL   \n",
      "4621        <NA>    1834.0       1.0  CHICKEN SALAD BOWL   \n",
      "\n",
      "                                     choice_description  item_price  \\\n",
      "0                                                   NaN         NaN   \n",
      "1                                                   NaN         NaN   \n",
      "2                                                   NaN         NaN   \n",
      "3                                                   NaN         NaN   \n",
      "4                                                   NaN         NaN   \n",
      "...                                                 ...         ...   \n",
      "4617  [Fresh Tomato Salsa, [Rice, Black Beans, Sour ...       11.75   \n",
      "4618  [Fresh Tomato Salsa, [Rice, Sour Cream, Cheese...       11.75   \n",
      "4619  [Fresh Tomato Salsa, [Fajita Vegetables, Pinto...       11.25   \n",
      "4620  [Fresh Tomato Salsa, [Fajita Vegetables, Lettu...        8.75   \n",
      "4621  [Fresh Tomato Salsa, [Fajita Vegetables, Pinto...        8.75   \n",
      "\n",
      "      vegetarian  \n",
      "0           <NA>  \n",
      "1           <NA>  \n",
      "2           <NA>  \n",
      "3           <NA>  \n",
      "4           <NA>  \n",
      "...          ...  \n",
      "4617        True  \n",
      "4618        True  \n",
      "4619        True  \n",
      "4620        True  \n",
      "4621        True  \n",
      "\n",
      "[4622 rows x 12 columns]\n"
     ]
    }
   ],
   "source": [
    "### Your code starts here ###\n",
    "\n",
    "\n",
    "### Your code ends here ###\n",
    "\n",
    "print(rejoined_dataframe_columns)"
   ]
  },
  {
   "cell_type": "markdown",
   "id": "e293aa0c",
   "metadata": {},
   "source": [
    "If you've reached this cell, well done! Pandas is plenty of outstanding methods that empower your skills dealing with large amounts of data. I highly recommend you to deeply study the method merge.\n",
    "Merge converts pandas in database language that you can compare with MySQL. Maybe a further version of this bootcamp will include some merge exercises."
   ]
  },
  {
   "cell_type": "code",
   "execution_count": null,
   "id": "c428e3f8",
   "metadata": {},
   "outputs": [],
   "source": []
  }
 ],
 "metadata": {
  "kernelspec": {
   "display_name": "Python 3 (ipykernel)",
   "language": "python",
   "name": "python3"
  },
  "language_info": {
   "codemirror_mode": {
    "name": "ipython",
    "version": 3
   },
   "file_extension": ".py",
   "mimetype": "text/x-python",
   "name": "python",
   "nbconvert_exporter": "python",
   "pygments_lexer": "ipython3",
   "version": "3.9.5"
  }
 },
 "nbformat": 4,
 "nbformat_minor": 5
}
